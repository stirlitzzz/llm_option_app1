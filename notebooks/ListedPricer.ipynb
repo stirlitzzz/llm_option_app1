{
 "cells": [
  {
   "cell_type": "markdown",
   "id": "a1b005f3",
   "metadata": {},
   "source": [
    "# Initialize"
   ]
  },
  {
   "cell_type": "code",
   "execution_count": 1,
   "id": "5e8b81bb",
   "metadata": {},
   "outputs": [],
   "source": [
    "# turn on autoreload\n",
    "%load_ext autoreload\n",
    "%autoreload 2"
   ]
  },
  {
   "cell_type": "code",
   "execution_count": 2,
   "id": "02c10768",
   "metadata": {},
   "outputs": [],
   "source": [
    "import os,sys\n",
    "ROOT = os.path.abspath(\"..\")          # if your notebook/ lives under project-root/notebook/\n",
    "SRC  = os.path.join(ROOT, \"src\")\n",
    "sys.path.append(SRC)"
   ]
  },
  {
   "cell_type": "markdown",
   "id": "0e5f9c8a",
   "metadata": {},
   "source": [
    "# Options Underlying"
   ]
  },
  {
   "cell_type": "code",
   "execution_count": 3,
   "id": "8441fc2a",
   "metadata": {},
   "outputs": [],
   "source": [
    "import pandas as pd\n",
    "\n",
    "options_df = pd.DataFrame({\n",
    "    'mult':[100,100],\n",
    "    'Expiration': ['1/15/27','1/15/27'],\n",
    "    'Strike':[250,250],\n",
    "    'Spot':[252.29,252.29],\n",
    "    'CP':['P','C'],\n",
    "    'EA':['A','A'],\n",
    "    'Texp':[1.2416,1.2416],\n",
    "    'Vol':['27.45%','27.45%'],\n",
    "    'Borrow':[-0.006,-0.0060]\n",
    "})\n",
    "\n",
    "dividends_df = pd.DataFrame({\n",
    "    'Date':['11/8/25','2/8/26','5/10/26','8/9/26','11/8/26','2/8/27','5/8/27','8/8/27'],\n",
    "    'Amount':[0.26,0.26,0.26,0.26,0.26,0.40,0.40,0.40]\n",
    "})\n",
    "\n",
    "str_underlying='AAPL'\n",
    "pd_val_date=pd.Timestamp('10/17/2025') "
   ]
  },
  {
   "cell_type": "code",
   "execution_count": 4,
   "id": "ac202315",
   "metadata": {},
   "outputs": [
    {
     "name": "stdout",
     "output_type": "stream",
     "text": [
      "[]\n",
      "  symbol cp  expiration  strike  snapped_strike   bid    ask    mark  \\\n",
      "0   AAPL  P  2027-01-15   250.0           False  24.6  25.00  24.800   \n",
      "1   AAPL  C  2027-01-15   250.0           False  36.7  37.65  37.175   \n",
      "\n",
      "         iv  openInterest  volume     delta     gamma      vega  \\\n",
      "0  0.267427          5031      57 -0.401476  0.005546  1.071017   \n",
      "1  0.287485          9767      57  0.618236  0.004756  1.068378   \n",
      "\n",
      "   underlying_price   optionId  \n",
      "0            252.29  134511704  \n",
      "1            252.29  134511703  \n"
     ]
    },
    {
     "data": {
      "text/html": [
       "<div>\n",
       "<style scoped>\n",
       "    .dataframe tbody tr th:only-of-type {\n",
       "        vertical-align: middle;\n",
       "    }\n",
       "\n",
       "    .dataframe tbody tr th {\n",
       "        vertical-align: top;\n",
       "    }\n",
       "\n",
       "    .dataframe thead th {\n",
       "        text-align: right;\n",
       "    }\n",
       "</style>\n",
       "<table border=\"1\" class=\"dataframe\">\n",
       "  <thead>\n",
       "    <tr style=\"text-align: right;\">\n",
       "      <th></th>\n",
       "      <th>Expiration</th>\n",
       "      <th>Strike</th>\n",
       "      <th>Spot</th>\n",
       "      <th>CP</th>\n",
       "      <th>EA</th>\n",
       "      <th>Texp</th>\n",
       "      <th>Vol</th>\n",
       "      <th>Borrow</th>\n",
       "      <th>bid</th>\n",
       "      <th>Theo</th>\n",
       "      <th>ask</th>\n",
       "    </tr>\n",
       "  </thead>\n",
       "  <tbody>\n",
       "    <tr>\n",
       "      <th>0</th>\n",
       "      <td>1/15/27</td>\n",
       "      <td>250</td>\n",
       "      <td>252.29</td>\n",
       "      <td>P</td>\n",
       "      <td>A</td>\n",
       "      <td>1.2416</td>\n",
       "      <td>27.45%</td>\n",
       "      <td>-0.006</td>\n",
       "      <td>24.6</td>\n",
       "      <td>24.854431</td>\n",
       "      <td>25.00</td>\n",
       "    </tr>\n",
       "    <tr>\n",
       "      <th>1</th>\n",
       "      <td>1/15/27</td>\n",
       "      <td>250</td>\n",
       "      <td>252.29</td>\n",
       "      <td>C</td>\n",
       "      <td>A</td>\n",
       "      <td>1.2416</td>\n",
       "      <td>27.45%</td>\n",
       "      <td>-0.006</td>\n",
       "      <td>36.7</td>\n",
       "      <td>37.275696</td>\n",
       "      <td>37.65</td>\n",
       "    </tr>\n",
       "  </tbody>\n",
       "</table>\n",
       "</div>"
      ],
      "text/plain": [
       "  Expiration  Strike    Spot CP EA    Texp     Vol  Borrow   bid       Theo  \\\n",
       "0    1/15/27     250  252.29  P  A  1.2416  27.45%  -0.006  24.6  24.854431   \n",
       "1    1/15/27     250  252.29  C  A  1.2416  27.45%  -0.006  36.7  37.275696   \n",
       "\n",
       "     ask  \n",
       "0  25.00  \n",
       "1  37.65  "
      ]
     },
     "execution_count": 4,
     "metadata": {},
     "output_type": "execute_result"
    }
   ],
   "source": [
    "from listed_pricer_data_loader import get_ivol_yc, apply_ivol_yc, fetch_and_pick\n",
    "from listed_pricer_qlib import price_table_with_divs_ql\n",
    "\n",
    "yc_results=get_ivol_yc(pd_val_date)\n",
    "\n",
    "options_df2=apply_ivol_yc(yc_results,options_df)\n",
    "options_df2\n",
    "\n",
    "priced_ql_ir=price_table_with_divs_ql(\n",
    "    options_df2, dividends_df,\n",
    "    #valuation_date='10/17/2025',\n",
    "    valuation_date=pd_val_date.strftime('%m/%d/%Y'),\n",
    "    default_r=0.0308,                  # use your carry here; bump if needed to match combo\n",
    "    init_vol=0.2755,           # optional: seed for the SimpleQuote\n",
    "    t_grid=400, x_grid=200,\n",
    "    want_greeks=True,\n",
    "    compute_combo=True\n",
    ")\n",
    "\n",
    "\n",
    "# legs_df with your desired contracts:\n",
    "# columns: Expiration (any parseable date), Strike (float), CP ('C'/'P')\n",
    "legs_df=options_df2[['Expiration','Strike','CP']]\n",
    "out = fetch_and_pick(str_underlying, trade_date=pd_val_date.strftime('%Y-%m-%d'), legs_df=legs_df, snap_to_nearest=False)\n",
    "print(out[\"issues\"])     # any misses or snaps\n",
    "print(out[\"matched_df\"]) # exact rows you can pass to your pric\n",
    "out_relevant=out[\"matched_df\"][['expiration','strike','cp','bid','ask','iv','openInterest','volume','delta','gamma','vega','underlying_price','optionId']]\n",
    "df_combine=pd.concat([priced_ql_ir,out_relevant],axis=1)\n",
    "df_combine\n",
    "df_show=df_combine[[\"Expiration\" ,\"Strike\",\"Spot\",\"CP\", \"EA\",\"Texp\",\"Vol\",\"Borrow\", \"bid\",\"Theo\",\"ask\"]]\n",
    "df_show"
   ]
  },
  {
   "cell_type": "code",
   "execution_count": 10,
   "id": "9031e242",
   "metadata": {},
   "outputs": [
    {
     "name": "stdout",
     "output_type": "stream",
     "text": [
      "   mult Expiration  Strike    Spot CP EA    Texp     Vol  Borrow       Theo  \\\n",
      "0   100    1/15/27     250  252.29  P  A  1.2416  27.45%  -0.006  25.293813   \n",
      "1   100    1/15/27     250  252.29  C  A  1.2416  27.45%  -0.006  36.685118   \n",
      "\n",
      "      Delta     Gamma      Theta      Vega  Combo_C_minus_P  \n",
      "0 -0.399344  0.005402  -8.473548  1.074258        11.391305  \n",
      "1  0.628669  0.004961 -16.608745  1.074383        11.391305  \n"
     ]
    }
   ],
   "source": [
    "\n",
    "priced_ql = price_table_with_divs_ql(\n",
    "    options_df, dividends_df,\n",
    "    #valuation_date='10/17/2025',\n",
    "    valuation_date=pd_val_date.strftime('%m/%d/%Y'),\n",
    "    default_r=0.0308,                  # use your carry here; bump if needed to match combo\n",
    "    init_vol=0.2755,           # optional: seed for the SimpleQuote\n",
    "    t_grid=400, x_grid=200,\n",
    "    want_greeks=True,\n",
    "    compute_combo=True\n",
    ")\n",
    "\n",
    "print(priced_ql)"
   ]
  }
 ],
 "metadata": {
  "kernelspec": {
   "display_name": "llm_test",
   "language": "python",
   "name": "python3"
  },
  "language_info": {
   "codemirror_mode": {
    "name": "ipython",
    "version": 3
   },
   "file_extension": ".py",
   "mimetype": "text/x-python",
   "name": "python",
   "nbconvert_exporter": "python",
   "pygments_lexer": "ipython3",
   "version": "3.13.5"
  }
 },
 "nbformat": 4,
 "nbformat_minor": 5
}
